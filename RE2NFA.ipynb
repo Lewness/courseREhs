{
 "cells": [
  {
   "cell_type": "code",
   "execution_count": 6,
   "metadata": {
    "collapsed": false
   },
   "outputs": [],
   "source": [
    "type State = Int\n",
    "type Label = Char\n",
    "type Delta = [(State,Label,State)] -- 관계 집합(리스트)로 상태 전이\n",
    "\n",
    "type NFA = (State, [State], Delta)\n",
    "\n",
    "-- 관계 집합으로부터 상태 전이 함수 정의\n",
    "delta :: Delta -> (State -> Label -> [State])\n",
    "delta rel = \\ state label -> [q | (p,l,q) <- rel, p == state, l == label]"
   ]
  },
  {
   "cell_type": "code",
   "execution_count": null,
   "metadata": {
    "collapsed": true
   },
   "outputs": [],
   "source": []
  }
 ],
 "metadata": {
  "kernelspec": {
   "display_name": "Haskell",
   "language": "haskell",
   "name": "haskell"
  },
  "language_info": {
   "codemirror_mode": "ihaskell",
   "file_extension": ".hs",
   "name": "haskell",
   "version": "7.10.2"
  }
 },
 "nbformat": 4,
 "nbformat_minor": 0
}
