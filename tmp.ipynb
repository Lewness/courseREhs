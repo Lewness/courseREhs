{
 "cells": [
  {
   "cell_type": "markdown",
   "metadata": {},
   "source": [
    "메모"
   ]
  },
  {
   "cell_type": "code",
   "execution_count": 1,
   "metadata": {
    "collapsed": false
   },
   "outputs": [
    {
     "data": {
      "text/plain": [
       "[2,4,6,8,10]"
      ]
     },
     "metadata": {},
     "output_type": "display_data"
    }
   ],
   "source": [
    "map (*2) [1,2,3,4,5]"
   ]
  },
  {
   "cell_type": "code",
   "execution_count": 2,
   "metadata": {
    "collapsed": false
   },
   "outputs": [],
   "source": [
    "map :: (a -> b) -> [a] -> [b]\n",
    "map f []     = []\n",
    "map f (x:xs) = f x : map f xs"
   ]
  },
  {
   "cell_type": "markdown",
   "metadata": {},
   "source": [
    "<span class='hoogle-name'><a target='_blank' href='http://hackage.haskell.org/packages/archive/base/latest/doc/html/Prelude.html#v:concat'>concat</a> &#x2237; [[a]] &#x2192; [a]</span>\n",
    "<span class='hoogle-sub'>(<span class='hoogle-head'>package</span>\n",
    "<span class='hoogle-package'>base</span>, <span class='hoogle-head'>module</span> <span class='hoogle-module'>Prelude</span>)</span>\n",
    "<div class='hoogle-doc'>\n",
    "<div class='hoogle-text'>Concatenate a list of lists. e.g.,</div>\n",
    "\n",
    "```haskell\n",
    "concat [xs1, xs2, xs3] == xs1 ++ xs2 ++ xs3\n",
    "concat xss == foldr (++) [] xss\n",
    "```\n",
    "\n",
    "</div>"
   ]
  },
  {
   "cell_type": "code",
   "execution_count": 3,
   "metadata": {
    "collapsed": false
   },
   "outputs": [
    {
     "data": {
      "text/plain": [
       "[1,2,3,4,5,6,7,8,9]"
      ]
     },
     "metadata": {},
     "output_type": "display_data"
    }
   ],
   "source": [
    "concat [[1,2], [3,4,5], [6,7,8,9]]"
   ]
  },
  {
   "cell_type": "code",
   "execution_count": 4,
   "metadata": {
    "collapsed": false
   },
   "outputs": [
    {
     "data": {
      "text/html": [
       "<style>/* Styles used for the Hoogle display in the pager */\n",
       ".hoogle-doc {\n",
       "display: block;\n",
       "padding-bottom: 1.3em;\n",
       "padding-left: 0.4em;\n",
       "}\n",
       ".hoogle-code {\n",
       "display: block;\n",
       "font-family: monospace;\n",
       "white-space: pre;\n",
       "}\n",
       ".hoogle-text {\n",
       "display: block;\n",
       "}\n",
       ".hoogle-name {\n",
       "color: green;\n",
       "font-weight: bold;\n",
       "}\n",
       ".hoogle-head {\n",
       "font-weight: bold;\n",
       "}\n",
       ".hoogle-sub {\n",
       "display: block;\n",
       "margin-left: 0.4em;\n",
       "}\n",
       ".hoogle-package {\n",
       "font-weight: bold;\n",
       "font-style: italic;\n",
       "}\n",
       ".hoogle-module {\n",
       "font-weight: bold;\n",
       "}\n",
       ".hoogle-class {\n",
       "font-weight: bold;\n",
       "}\n",
       ".get-type {\n",
       "color: green;\n",
       "font-weight: bold;\n",
       "font-family: monospace;\n",
       "display: block;\n",
       "white-space: pre-wrap;\n",
       "}\n",
       ".show-type {\n",
       "color: green;\n",
       "font-weight: bold;\n",
       "font-family: monospace;\n",
       "margin-left: 1em;\n",
       "}\n",
       ".mono {\n",
       "font-family: monospace;\n",
       "display: block;\n",
       "}\n",
       ".err-msg {\n",
       "color: red;\n",
       "font-style: italic;\n",
       "font-family: monospace;\n",
       "white-space: pre;\n",
       "display: block;\n",
       "}\n",
       "#unshowable {\n",
       "color: red;\n",
       "font-weight: bold;\n",
       "}\n",
       ".err-msg.in.collapse {\n",
       "padding-top: 0.7em;\n",
       "}\n",
       ".highlight-code {\n",
       "white-space: pre;\n",
       "font-family: monospace;\n",
       "}\n",
       ".suggestion-warning { \n",
       "font-weight: bold;\n",
       "color: rgb(200, 130, 0);\n",
       "}\n",
       ".suggestion-error { \n",
       "font-weight: bold;\n",
       "color: red;\n",
       "}\n",
       ".suggestion-name {\n",
       "font-weight: bold;\n",
       "}\n",
       "</style><div class=\"suggestion-name\" style=\"clear:both;\">Use concat</div><div class=\"suggestion-row\" style=\"float: left;\"><div class=\"suggestion-error\">Found:</div><div class=\"highlight-code\" id=\"haskell\">foldr (++) []</div></div><div class=\"suggestion-row\" style=\"float: left;\"><div class=\"suggestion-error\">Why Not:</div><div class=\"highlight-code\" id=\"haskell\">concat</div></div>"
      ],
      "text/plain": [
       "Line 1: Use concat\n",
       "Found:\n",
       "foldr (++) []\n",
       "Why not:\n",
       "concat"
      ]
     },
     "metadata": {},
     "output_type": "display_data"
    },
    {
     "data": {
      "text/plain": [
       "[1,2,3,4,5,6,7,8,9]"
      ]
     },
     "metadata": {},
     "output_type": "display_data"
    }
   ],
   "source": [
    "foldr (++) [] [[1,2], [3,4,5], [6,7,8,9]]"
   ]
  },
  {
   "cell_type": "code",
   "execution_count": 5,
   "metadata": {
    "collapsed": false
   },
   "outputs": [
    {
     "data": {},
     "metadata": {},
     "output_type": "display_data"
    }
   ],
   "source": [
    ":doc foldr"
   ]
  },
  {
   "cell_type": "code",
   "execution_count": 6,
   "metadata": {
    "collapsed": false
   },
   "outputs": [
    {
     "data": {},
     "metadata": {},
     "output_type": "display_data"
    }
   ],
   "source": [
    ":doc map"
   ]
  },
  {
   "cell_type": "code",
   "execution_count": 43,
   "metadata": {
    "collapsed": false
   },
   "outputs": [],
   "source": [
    "-- 변수 이름 타입은 문자열로 한다\n",
    "type Nm = String\n",
    "\n",
    "-- 람다식 문법 구조\n",
    "data Tm = Var Nm | Lam Nm Tm | App Tm Tm  deriving Show\n",
    "\n",
    "-- 보기좋게 문자열로 변환해주는 함수\n",
    "ppTm (Var x) = x\n",
    "ppTm (Lam x t) = \"\\\\\" ++ x ++ \" -> \" ++ ppTm t\n",
    "ppTm (App t s) = ppt t ++ \" \" ++ pps s\n",
    "  where\n",
    "  ppt t@(Lam{}) = paren (ppTm t)\n",
    "  ppt t         = ppTm t\n",
    "  pps s@(Var{}) = ppTm s\n",
    "  pps s         = paren (ppTm s)\n",
    "\n",
    "paren s = \"(\" ++ s ++ \")\""
   ]
  },
  {
   "cell_type": "code",
   "execution_count": 49,
   "metadata": {
    "collapsed": false
   },
   "outputs": [
    {
     "data": {
      "text/plain": [
       "x"
      ]
     },
     "metadata": {},
     "output_type": "display_data"
    },
    {
     "data": {
      "text/plain": [
       "\\x -> x"
      ]
     },
     "metadata": {},
     "output_type": "display_data"
    },
    {
     "data": {
      "text/plain": [
       "(\\x -> x) (\\x -> x)"
      ]
     },
     "metadata": {},
     "output_type": "display_data"
    },
    {
     "data": {
      "text/plain": [
       "(\\x -> \\y -> x) u w"
      ]
     },
     "metadata": {},
     "output_type": "display_data"
    }
   ],
   "source": [
    "idTm = Lam \"x\" (Var \"x\")\n",
    "ttTm = Lam \"x\" (Lam \"y\" (Var \"x\")) \n",
    "ffTm = Lam \"x\" (Lam \"y\" (Var \"y\")) \n",
    "\n",
    "putStr . ppTm $ Var \"x\"\n",
    "putStr . ppTm $ idTm\n",
    "putStr . ppTm $ App idTm idTm\n",
    "putStr . ppTm $ App (App ttTm (Var \"u\")) (Var \"w\")"
   ]
  },
  {
   "cell_type": "code",
   "execution_count": 50,
   "metadata": {
    "collapsed": false
   },
   "outputs": [
    {
     "data": {
      "text/html": [
       "<style>/* Styles used for the Hoogle display in the pager */\n",
       ".hoogle-doc {\n",
       "display: block;\n",
       "padding-bottom: 1.3em;\n",
       "padding-left: 0.4em;\n",
       "}\n",
       ".hoogle-code {\n",
       "display: block;\n",
       "font-family: monospace;\n",
       "white-space: pre;\n",
       "}\n",
       ".hoogle-text {\n",
       "display: block;\n",
       "}\n",
       ".hoogle-name {\n",
       "color: green;\n",
       "font-weight: bold;\n",
       "}\n",
       ".hoogle-head {\n",
       "font-weight: bold;\n",
       "}\n",
       ".hoogle-sub {\n",
       "display: block;\n",
       "margin-left: 0.4em;\n",
       "}\n",
       ".hoogle-package {\n",
       "font-weight: bold;\n",
       "font-style: italic;\n",
       "}\n",
       ".hoogle-module {\n",
       "font-weight: bold;\n",
       "}\n",
       ".hoogle-class {\n",
       "font-weight: bold;\n",
       "}\n",
       ".get-type {\n",
       "color: green;\n",
       "font-weight: bold;\n",
       "font-family: monospace;\n",
       "display: block;\n",
       "white-space: pre-wrap;\n",
       "}\n",
       ".show-type {\n",
       "color: green;\n",
       "font-weight: bold;\n",
       "font-family: monospace;\n",
       "margin-left: 1em;\n",
       "}\n",
       ".mono {\n",
       "font-family: monospace;\n",
       "display: block;\n",
       "}\n",
       ".err-msg {\n",
       "color: red;\n",
       "font-style: italic;\n",
       "font-family: monospace;\n",
       "white-space: pre;\n",
       "display: block;\n",
       "}\n",
       "#unshowable {\n",
       "color: red;\n",
       "font-weight: bold;\n",
       "}\n",
       ".err-msg.in.collapse {\n",
       "padding-top: 0.7em;\n",
       "}\n",
       ".highlight-code {\n",
       "white-space: pre;\n",
       "font-family: monospace;\n",
       "}\n",
       ".suggestion-warning { \n",
       "font-weight: bold;\n",
       "color: rgb(200, 130, 0);\n",
       "}\n",
       ".suggestion-error { \n",
       "font-weight: bold;\n",
       "color: red;\n",
       "}\n",
       ".suggestion-name {\n",
       "font-weight: bold;\n",
       "}\n",
       "</style><div class=\"suggestion-name\" style=\"clear:both;\">Use id</div><div class=\"suggestion-row\" style=\"float: left;\"><div class=\"suggestion-error\">Found:</div><div class=\"highlight-code\" id=\"haskell\">\\ x -> x</div></div><div class=\"suggestion-row\" style=\"float: left;\"><div class=\"suggestion-error\">Why Not:</div><div class=\"highlight-code\" id=\"haskell\">id</div></div><div class=\"suggestion-name\" style=\"clear:both;\">Use id</div><div class=\"suggestion-row\" style=\"float: left;\"><div class=\"suggestion-error\">Found:</div><div class=\"highlight-code\" id=\"haskell\">\\ x -> x</div></div><div class=\"suggestion-row\" style=\"float: left;\"><div class=\"suggestion-error\">Why Not:</div><div class=\"highlight-code\" id=\"haskell\">id</div></div>"
      ],
      "text/plain": [
       "Line 1: Use id\n",
       "Found:\n",
       "\\ x -> x\n",
       "Why not:\n",
       "idLine 1: Use id\n",
       "Found:\n",
       "\\ x -> x\n",
       "Why not:\n",
       "id"
      ]
     },
     "metadata": {},
     "output_type": "display_data"
    },
    {
     "data": {
      "text/plain": [
       "\"z\""
      ]
     },
     "metadata": {},
     "output_type": "display_data"
    }
   ],
   "source": [
    "-- 하스켈에서 그대로 붙여넣으면 실행도 어느 정도 가능하게\n",
    "let z = \"z\" in (\\x -> x) ((\\x -> x) z)"
   ]
  },
  {
   "cell_type": "code",
   "execution_count": 84,
   "metadata": {
    "collapsed": false
   },
   "outputs": [],
   "source": [
    "-- Tm의 구조에서 딱 한군데를 지정해 가리키기 위한 구조\n",
    "data Tm' = Here Tm -- 여기야 여기\n",
    "         | Var' Nm | Lam' Nm Tm' | App' Tm' Tm'\n",
    "  deriving Show\n",
    "\n",
    "-- 보기좋게 문자열로 변환해주는 함수\n",
    "ppTm' (Here t) = \"[\" ++ ppTm t ++ \"]\"\n",
    "ppTm' (Var' x) = x\n",
    "ppTm' (Lam' x t) = \"\\\\\" ++ x ++ \" -> \" ++ ppTm' t\n",
    "ppTm' (App' t s) = ppt t ++ \" \" ++ pps s\n",
    "  where\n",
    "  ppt t@(Lam'{})      = paren (ppTm' t)\n",
    "  ppt t@(Here(Lam{})) = paren (ppTm' t)\n",
    "  ppt t               = ppTm' t\n",
    "  pps s@(Var'{})      = ppTm' s\n",
    "  pps s@(Here(Var{})) = ppTm' s\n",
    "  pps s               = paren (ppTm' s)\n",
    "\n",
    "-- Tm을 Tm'으로 변환\n",
    "tm2tm' (Var x) = Var' x\n",
    "tm2tm' (Lam x t) = Lam' x (tm2tm' t)\n",
    "tm2tm' (App t s) = App' (tm2tm' t) (tm2tm' s)\n",
    "\n",
    "-- Tm'을 으로 변환 (Here 정보는 사라진다)\n",
    "tm'2tm (Here t) = t\n",
    "tm'2tm (Var' x) = Var x\n",
    "tm'2tm (Lam' x t) = Lam x (tm'2tm t)\n",
    "tm'2tm (App' t s) = App (tm'2tm t) (tm'2tm s) "
   ]
  },
  {
   "cell_type": "code",
   "execution_count": 80,
   "metadata": {
    "collapsed": false
   },
   "outputs": [
    {
     "data": {
      "text/plain": [
       "Here (App (Lam \"x\" (Var \"x\")) (Lam \"x\" (Var \"x\")))"
      ]
     },
     "metadata": {},
     "output_type": "display_data"
    },
    {
     "data": {
      "text/plain": [
       "[(\\x -> x) (\\x -> x)]"
      ]
     },
     "metadata": {},
     "output_type": "display_data"
    },
    {
     "data": {
      "text/plain": [
       "App' (Lam' \"x\" (Var' \"x\")) (Here (App (Lam \"x\" (Var \"x\")) (Lam \"x\" (Var \"x\"))))"
      ]
     },
     "metadata": {},
     "output_type": "display_data"
    },
    {
     "data": {
      "text/plain": [
       "(\\x -> x) ([(\\x -> x) (\\x -> x)])"
      ]
     },
     "metadata": {},
     "output_type": "display_data"
    }
   ],
   "source": [
    "idTm' = tm2tm' idTm\n",
    "\n",
    "Here(App idTm idTm)\n",
    "putStr . ppTm' $ Here(App idTm idTm)\n",
    "\n",
    "App' idTm' (Here(App idTm idTm))\n",
    "putStr . ppTm' $ App' idTm' (Here(App idTm idTm))"
   ]
  },
  {
   "cell_type": "code",
   "execution_count": 81,
   "metadata": {
    "collapsed": false
   },
   "outputs": [
    {
     "data": {
      "text/plain": [
       "\\y -> (\\x -> x) ((\\x -> x) y)"
      ]
     },
     "metadata": {},
     "output_type": "display_data"
    }
   ],
   "source": [
    "-- 아래 람다식의 beta redex를 모두 찾아 각각의 경우를 하나씩 Here로 표시해 보자\n",
    "putStr . ppTm $ Lam \"y\" (App idTm (App idTm (Var \"y\")))"
   ]
  },
  {
   "cell_type": "code",
   "execution_count": 82,
   "metadata": {
    "collapsed": false
   },
   "outputs": [
    {
     "data": {
      "text/plain": [
       "\\y -> [(\\x -> x) ((\\x -> x) y)]"
      ]
     },
     "metadata": {},
     "output_type": "display_data"
    },
    {
     "data": {
      "text/plain": [
       "\\y -> (\\x -> x) ([(\\x -> x) y])"
      ]
     },
     "metadata": {},
     "output_type": "display_data"
    }
   ],
   "source": [
    "-- 다음의 두 가지 경우가 있다\n",
    "putStr . ppTm' $ Lam' \"y\" (Here(App idTm (App idTm (Var \"y\"))))\n",
    "putStr . ppTm' $ Lam' \"y\" (App' idTm' (Here(App idTm (Var \"y\"))))"
   ]
  },
  {
   "cell_type": "code",
   "execution_count": 78,
   "metadata": {
    "collapsed": false
   },
   "outputs": [
    {
     "data": {
      "text/plain": [
       "(\\x -> x) ((\\x -> x) (\\x -> x) ((\\x -> x) (\\x -> x)))"
      ]
     },
     "metadata": {},
     "output_type": "display_data"
    }
   ],
   "source": [
    "-- 아래 람다식에는 beta redex가 3개 있는데 모두 찾아 각각을 Here로 표시해 보라\n",
    "putStr . ppTm $ App idTm (App idTm idTm `App` App idTm idTm)"
   ]
  },
  {
   "cell_type": "code",
   "execution_count": null,
   "metadata": {
    "collapsed": true
   },
   "outputs": [],
   "source": [
    "-- 여기에 해보세요"
   ]
  },
  {
   "cell_type": "code",
   "execution_count": 85,
   "metadata": {
    "collapsed": true
   },
   "outputs": [],
   "source": [
    "-- beta redex를 모두 찾아 리스트로 나열하는 함수를 작성하라\n",
    "-- beta redex가 없을 경우는 빈 리스트가 결과값이 된다\n",
    "redexes :: Tm -> [Tm']\n",
    "redexes (Var x) = []\n",
    "redexes (Lam x t) = undefined\n",
    "redexes (App t s) = undefined"
   ]
  }
 ],
 "metadata": {
  "kernelspec": {
   "display_name": "Haskell",
   "language": "haskell",
   "name": "haskell"
  },
  "language_info": {
   "codemirror_mode": "ihaskell",
   "file_extension": ".hs",
   "name": "haskell",
   "version": "7.10.2"
  }
 },
 "nbformat": 4,
 "nbformat_minor": 0
}
