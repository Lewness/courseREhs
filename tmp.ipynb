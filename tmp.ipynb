{
 "cells": [
  {
   "cell_type": "markdown",
   "metadata": {},
   "source": [
    "메모"
   ]
  },
  {
   "cell_type": "code",
   "execution_count": 1,
   "metadata": {
    "collapsed": false
   },
   "outputs": [],
   "source": [
    "module A where\n",
    "\n",
    "myfun :: Int -> Int\n",
    "myfun n = n + n"
   ]
  },
  {
   "cell_type": "code",
   "execution_count": 3,
   "metadata": {
    "collapsed": false
   },
   "outputs": [],
   "source": [
    "module B where\n",
    "import qualified A\n",
    "mefun = A.myfun"
   ]
  },
  {
   "cell_type": "code",
   "execution_count": 4,
   "metadata": {
    "collapsed": false
   },
   "outputs": [
    {
     "data": {
      "text/html": [
       "<style>/* Styles used for the Hoogle display in the pager */\n",
       ".hoogle-doc {\n",
       "display: block;\n",
       "padding-bottom: 1.3em;\n",
       "padding-left: 0.4em;\n",
       "}\n",
       ".hoogle-code {\n",
       "display: block;\n",
       "font-family: monospace;\n",
       "white-space: pre;\n",
       "}\n",
       ".hoogle-text {\n",
       "display: block;\n",
       "}\n",
       ".hoogle-name {\n",
       "color: green;\n",
       "font-weight: bold;\n",
       "}\n",
       ".hoogle-head {\n",
       "font-weight: bold;\n",
       "}\n",
       ".hoogle-sub {\n",
       "display: block;\n",
       "margin-left: 0.4em;\n",
       "}\n",
       ".hoogle-package {\n",
       "font-weight: bold;\n",
       "font-style: italic;\n",
       "}\n",
       ".hoogle-module {\n",
       "font-weight: bold;\n",
       "}\n",
       ".hoogle-class {\n",
       "font-weight: bold;\n",
       "}\n",
       ".get-type {\n",
       "color: green;\n",
       "font-weight: bold;\n",
       "font-family: monospace;\n",
       "display: block;\n",
       "white-space: pre-wrap;\n",
       "}\n",
       ".show-type {\n",
       "color: green;\n",
       "font-weight: bold;\n",
       "font-family: monospace;\n",
       "margin-left: 1em;\n",
       "}\n",
       ".mono {\n",
       "font-family: monospace;\n",
       "display: block;\n",
       "}\n",
       ".err-msg {\n",
       "color: red;\n",
       "font-style: italic;\n",
       "font-family: monospace;\n",
       "white-space: pre;\n",
       "display: block;\n",
       "}\n",
       "#unshowable {\n",
       "color: red;\n",
       "font-weight: bold;\n",
       "}\n",
       ".err-msg.in.collapse {\n",
       "padding-top: 0.7em;\n",
       "}\n",
       ".highlight-code {\n",
       "white-space: pre;\n",
       "font-family: monospace;\n",
       "}\n",
       ".suggestion-warning { \n",
       "font-weight: bold;\n",
       "color: rgb(200, 130, 0);\n",
       "}\n",
       ".suggestion-error { \n",
       "font-weight: bold;\n",
       "color: red;\n",
       "}\n",
       ".suggestion-name {\n",
       "font-weight: bold;\n",
       "}\n",
       "</style><span class='get-type'>myfun :: Int -> Int</span>"
      ],
      "text/plain": [
       "myfun :: Int -> Int"
      ]
     },
     "metadata": {},
     "output_type": "display_data"
    }
   ],
   "source": [
    ":type myfun"
   ]
  },
  {
   "cell_type": "code",
   "execution_count": 5,
   "metadata": {
    "collapsed": false
   },
   "outputs": [
    {
     "data": {
      "text/html": [
       "<style>/* Styles used for the Hoogle display in the pager */\n",
       ".hoogle-doc {\n",
       "display: block;\n",
       "padding-bottom: 1.3em;\n",
       "padding-left: 0.4em;\n",
       "}\n",
       ".hoogle-code {\n",
       "display: block;\n",
       "font-family: monospace;\n",
       "white-space: pre;\n",
       "}\n",
       ".hoogle-text {\n",
       "display: block;\n",
       "}\n",
       ".hoogle-name {\n",
       "color: green;\n",
       "font-weight: bold;\n",
       "}\n",
       ".hoogle-head {\n",
       "font-weight: bold;\n",
       "}\n",
       ".hoogle-sub {\n",
       "display: block;\n",
       "margin-left: 0.4em;\n",
       "}\n",
       ".hoogle-package {\n",
       "font-weight: bold;\n",
       "font-style: italic;\n",
       "}\n",
       ".hoogle-module {\n",
       "font-weight: bold;\n",
       "}\n",
       ".hoogle-class {\n",
       "font-weight: bold;\n",
       "}\n",
       ".get-type {\n",
       "color: green;\n",
       "font-weight: bold;\n",
       "font-family: monospace;\n",
       "display: block;\n",
       "white-space: pre-wrap;\n",
       "}\n",
       ".show-type {\n",
       "color: green;\n",
       "font-weight: bold;\n",
       "font-family: monospace;\n",
       "margin-left: 1em;\n",
       "}\n",
       ".mono {\n",
       "font-family: monospace;\n",
       "display: block;\n",
       "}\n",
       ".err-msg {\n",
       "color: red;\n",
       "font-style: italic;\n",
       "font-family: monospace;\n",
       "white-space: pre;\n",
       "display: block;\n",
       "}\n",
       "#unshowable {\n",
       "color: red;\n",
       "font-weight: bold;\n",
       "}\n",
       ".err-msg.in.collapse {\n",
       "padding-top: 0.7em;\n",
       "}\n",
       ".highlight-code {\n",
       "white-space: pre;\n",
       "font-family: monospace;\n",
       "}\n",
       ".suggestion-warning { \n",
       "font-weight: bold;\n",
       "color: rgb(200, 130, 0);\n",
       "}\n",
       ".suggestion-error { \n",
       "font-weight: bold;\n",
       "color: red;\n",
       "}\n",
       ".suggestion-name {\n",
       "font-weight: bold;\n",
       "}\n",
       "</style><span class='get-type'>mefun :: Int -> Int</span>"
      ],
      "text/plain": [
       "mefun :: Int -> Int"
      ]
     },
     "metadata": {},
     "output_type": "display_data"
    }
   ],
   "source": [
    ":type mefun"
   ]
  },
  {
   "cell_type": "code",
   "execution_count": 6,
   "metadata": {
    "collapsed": false
   },
   "outputs": [
    {
     "data": {},
     "metadata": {},
     "output_type": "display_data"
    }
   ],
   "source": [
    "-- :info myfun"
   ]
  },
  {
   "cell_type": "code",
   "execution_count": 7,
   "metadata": {
    "collapsed": false
   },
   "outputs": [
    {
     "data": {},
     "metadata": {},
     "output_type": "display_data"
    }
   ],
   "source": [
    "-- :info mefun"
   ]
  },
  {
   "cell_type": "code",
   "execution_count": null,
   "metadata": {
    "collapsed": false
   },
   "outputs": [],
   "source": [
    "map (*2) [1,2,3,4,5]"
   ]
  },
  {
   "cell_type": "code",
   "execution_count": null,
   "metadata": {
    "collapsed": false
   },
   "outputs": [],
   "source": [
    "map :: (a -> b) -> [a] -> [b]\n",
    "map f []     = []\n",
    "map f (x:xs) = f x : map f xs"
   ]
  },
  {
   "cell_type": "markdown",
   "metadata": {},
   "source": [
    "<span class='hoogle-name'><a target='_blank' href='http://hackage.haskell.org/packages/archive/base/latest/doc/html/Prelude.html#v:concat'>concat</a> &#x2237; [[a]] &#x2192; [a]</span>\n",
    "<span class='hoogle-sub'>(<span class='hoogle-head'>package</span>\n",
    "<span class='hoogle-package'>base</span>, <span class='hoogle-head'>module</span> <span class='hoogle-module'>Prelude</span>)</span>\n",
    "<div class='hoogle-doc'>\n",
    "<div class='hoogle-text'>Concatenate a list of lists. e.g.,</div>\n",
    "\n",
    "```haskell\n",
    "concat [xs1, xs2, xs3] == xs1 ++ xs2 ++ xs3\n",
    "concat xss == foldr (++) [] xss\n",
    "```\n",
    "\n",
    "</div>"
   ]
  },
  {
   "cell_type": "code",
   "execution_count": null,
   "metadata": {
    "collapsed": false
   },
   "outputs": [],
   "source": [
    "concat [[1,2], [3,4,5], [6,7,8,9]]"
   ]
  },
  {
   "cell_type": "code",
   "execution_count": null,
   "metadata": {
    "collapsed": false
   },
   "outputs": [],
   "source": [
    "foldr (++) [] [[1,2], [3,4,5], [6,7,8,9]]"
   ]
  },
  {
   "cell_type": "code",
   "execution_count": null,
   "metadata": {
    "collapsed": false
   },
   "outputs": [],
   "source": [
    "-- :doc foldr"
   ]
  },
  {
   "cell_type": "code",
   "execution_count": null,
   "metadata": {
    "collapsed": false
   },
   "outputs": [],
   "source": [
    "-- :doc map"
   ]
  },
  {
   "cell_type": "code",
   "execution_count": null,
   "metadata": {
    "collapsed": false
   },
   "outputs": [],
   "source": [
    "-- 변수 이름 타입은 문자열로 한다\n",
    "type Nm = String\n",
    "\n",
    "-- 람다식 문법 구조\n",
    "data Tm = Var Nm | Lam Nm Tm | App Tm Tm  deriving (Show, Eq)\n",
    "\n",
    "-- 보기좋게 문자열로 변환해주는 함수\n",
    "ppTm (Var x) = x\n",
    "ppTm (Lam x t) = \"\\\\\" ++ x ++ \" -> \" ++ ppTm t\n",
    "ppTm (App t s) = ppt t ++ \" \" ++ pps s\n",
    "  where\n",
    "  ppt t@(Lam{}) = paren (ppTm t)\n",
    "  ppt t         = ppTm t\n",
    "  pps s@(Var{}) = ppTm s\n",
    "  pps s         = paren (ppTm s)\n",
    "\n",
    "paren s = \"(\" ++ s ++ \")\""
   ]
  },
  {
   "cell_type": "code",
   "execution_count": null,
   "metadata": {
    "collapsed": false
   },
   "outputs": [],
   "source": [
    "idTm = Lam \"x\" (Var \"x\")\n",
    "ttTm = Lam \"x\" (Lam \"y\" (Var \"x\")) \n",
    "ffTm = Lam \"x\" (Lam \"y\" (Var \"y\")) \n",
    "\n",
    "putStr . ppTm $ Var \"x\"\n",
    "putStr . ppTm $ idTm\n",
    "putStr . ppTm $ App idTm idTm\n",
    "putStr . ppTm $ App (App ttTm (Var \"u\")) (Var \"w\")"
   ]
  },
  {
   "cell_type": "code",
   "execution_count": null,
   "metadata": {
    "collapsed": false
   },
   "outputs": [],
   "source": [
    "-- 하스켈에서 그대로 붙여넣으면 실행도 어느 정도 가능하게\n",
    "let z = \"z\" in (\\x -> x) ((\\x -> x) z)"
   ]
  },
  {
   "cell_type": "code",
   "execution_count": null,
   "metadata": {
    "collapsed": false
   },
   "outputs": [],
   "source": [
    ":ext DeriveFunctor\n",
    "-- Tm의 구조에서 딱 한군데를 지정해 가리키기 위한 구조\n",
    "data TmF tm = Here tm -- 여기야 여기\n",
    "            | Var' Nm | Lam' Nm (TmF tm) | App' (TmF tm) (TmF tm)\n",
    "  deriving (Show, Functor)\n",
    "\n",
    "type Tm' = TmF Tm\n",
    "\n",
    "{-\n",
    "-- Functor 클래스를 빼고 생각하면 대략 다음과 같다고 보면 된다\n",
    "\n",
    "data Tm' = Here Tm -- 여기야 여기\n",
    "         | Var' Nm | Lam' Nm Tm' | App' Tm' Tm'\n",
    "  deriving Show\n",
    "\n",
    "-}\n",
    "\n",
    "\n",
    "-- 보기좋게 문자열로 변환해주는 함수\n",
    "ppTm' (Here t) = \"[\" ++ ppTm t ++ \"]\"\n",
    "ppTm' (Var' x) = x\n",
    "ppTm' (Lam' x t) = \"\\\\\" ++ x ++ \" -> \" ++ ppTm' t\n",
    "ppTm' (App' t s) = ppt t ++ \" \" ++ pps s\n",
    "  where\n",
    "  ppt t@(Lam'{})      = paren (ppTm' t)\n",
    "  ppt t@(Here(Lam{})) = paren (ppTm' t)\n",
    "  ppt t               = ppTm' t\n",
    "  pps s@(Var'{})      = ppTm' s\n",
    "  pps s@(Here(Var{})) = ppTm' s\n",
    "  pps s               = paren (ppTm' s)\n",
    "\n",
    "-- Tm을 Tm'으로 변환\n",
    "tm2tm' (Var x) = Var' x\n",
    "tm2tm' (Lam x t) = Lam' x (tm2tm' t)\n",
    "tm2tm' (App t s) = App' (tm2tm' t) (tm2tm' s)\n",
    "\n",
    "-- Tm'을 으로 변환 (Here 정보는 사라진다)\n",
    "tm'2tm (Here t) = t\n",
    "tm'2tm (Var' x) = Var x\n",
    "tm'2tm (Lam' x t) = Lam x (tm'2tm t)\n",
    "tm'2tm (App' t s) = App (tm'2tm t) (tm'2tm s) "
   ]
  },
  {
   "cell_type": "code",
   "execution_count": null,
   "metadata": {
    "collapsed": false
   },
   "outputs": [],
   "source": [
    "idTm' = tm2tm' idTm\n",
    "\n",
    "Here(App idTm idTm)\n",
    "putStr . ppTm' $ Here(App idTm idTm)\n",
    "\n",
    "App' idTm' (Here(App idTm idTm))\n",
    "putStr . ppTm' $ App' idTm' (Here(App idTm idTm))"
   ]
  },
  {
   "cell_type": "code",
   "execution_count": null,
   "metadata": {
    "collapsed": false
   },
   "outputs": [],
   "source": [
    "-- 아래 람다식의 beta redex를 모두 찾아 각각의 경우를 하나씩 Here로 표시해 보자\n",
    "putStr . ppTm $ Lam \"y\" (App idTm (App idTm (Var \"y\")))"
   ]
  },
  {
   "cell_type": "code",
   "execution_count": null,
   "metadata": {
    "collapsed": false
   },
   "outputs": [],
   "source": [
    "-- 다음의 두 가지 경우가 있다\n",
    "putStr . ppTm' $ Lam' \"y\" (Here(App idTm (App idTm (Var \"y\"))))\n",
    "putStr . ppTm' $ Lam' \"y\" (App' idTm' (Here(App idTm (Var \"y\"))))"
   ]
  },
  {
   "cell_type": "code",
   "execution_count": null,
   "metadata": {
    "collapsed": false
   },
   "outputs": [],
   "source": [
    "-- 아래 람다식에는 beta redex가 3개 있는데 모두 찾아 각각을 Here로 표시해 보라\n",
    "putStr . ppTm $ App idTm (App idTm idTm `App` App idTm idTm)"
   ]
  },
  {
   "cell_type": "code",
   "execution_count": null,
   "metadata": {
    "collapsed": false
   },
   "outputs": [],
   "source": [
    "-- 여기에 해보세요"
   ]
  },
  {
   "cell_type": "code",
   "execution_count": null,
   "metadata": {
    "collapsed": false
   },
   "outputs": [],
   "source": [
    "-- beta redex를 모두 찾아 리스트로 나열하는 함수를 작성하라\n",
    "-- beta redex가 없을 경우는 빈 리스트가 결과값이 된다\n",
    "redexes :: Tm -> [Tm']\n",
    "redexes (Var x) = []\n",
    "redexes (Lam x t) = [Lam' x t' | t' <- redexes t]\n",
    "redexes (App t s) = here\n",
    "                 ++ [App' t' (tm2tm' s) | t' <- redexes t]\n",
    "                 ++ [App' (tm2tm' t) s' | s' <- redexes s]\n",
    "  where\n",
    "  here = case t of Lam{} -> [Here (App t s)]\n",
    "                   _     -> []"
   ]
  },
  {
   "cell_type": "code",
   "execution_count": null,
   "metadata": {
    "collapsed": false
   },
   "outputs": [],
   "source": [
    "import IHaskell.Display\n",
    "\n",
    "dispTm t = Display [html(\"<code>\"++dpTm t++\"</code>\")]\n",
    "dispTm' t = Display [html(\"<code>\"++dpTm' t++\"</code>\")]\n",
    "\n",
    "dpTm (Var x) = x\n",
    "dpTm (Lam x t) = \"λ\" ++ x ++ \".\" ++ dpTm t\n",
    "dpTm (App t s) = dpt t ++ \" \" ++ dps s\n",
    "  where\n",
    "  dpt t@(Lam{}) = paren (dpTm t)\n",
    "  dpt t         = dpTm t\n",
    "  dps s@(Var{}) = dpTm s\n",
    "  dps s         = paren (dpTm s)\n",
    "  \n",
    "dpTm' (Here t) = \"<span style='color:red'>\" ++ dpTm t ++ \"</span>\"\n",
    "dpTm' (Var' x) = x\n",
    "dpTm' (Lam' x t) = \"λ\" ++ x ++ \".\" ++ dpTm' t\n",
    "dpTm' (App' t s) = dpt t ++ \" \" ++ dps s\n",
    "  where\n",
    "  dpt t@(Lam'{})      = paren (dpTm' t)\n",
    "  dpt t@(Here(Lam{})) = paren (dpTm' t)\n",
    "  dpt t               = dpTm' t\n",
    "  dps s@(Var'{})      = dpTm' s\n",
    "  dps s@(Here(Var{})) = dpTm' s\n",
    "  dps s               = paren (dpTm' s)\n",
    "\n",
    "dispTm $ Lam \"y\" (App idTm (App idTm (Var \"y\")))\n",
    "\n",
    "dispTm' $ Lam' \"y\" (Here(App idTm (App idTm (Var \"y\"))))\n",
    "\n",
    "dispTm' $ Lam' \"y\" (App' idTm' (Here(App idTm (Var \"y\"))))"
   ]
  },
  {
   "cell_type": "code",
   "execution_count": null,
   "metadata": {
    "collapsed": false,
    "scrolled": true
   },
   "outputs": [],
   "source": [
    "redexes $ Lam \"y\" (App idTm (App idTm (Var \"y\")))\n",
    "\n",
    "mapM_ (putStrLn . ppTm') . redexes $ Lam \"y\" (App idTm (App idTm (Var \"y\")))\n",
    "\n",
    "map dispTm' . redexes  $ Lam \"y\" (App idTm (App idTm (Var \"y\")))"
   ]
  },
  {
   "cell_type": "markdown",
   "metadata": {},
   "source": [
    "## freshness, alpha-equivalence, capture avoiding substitution\n",
    "beta reduction을 구현하기 위한 갈길이 멀도다"
   ]
  },
  {
   "cell_type": "code",
   "execution_count": null,
   "metadata": {
    "collapsed": false
   },
   "outputs": [],
   "source": [
    "import Data.List ( (\\\\), union )\n",
    "\n",
    "fv (Var x) = [x]\n",
    "fv (Lam x t) = fv t \\\\ [x]\n",
    "fv (App t s) = fv t `union` fv s"
   ]
  },
  {
   "cell_type": "code",
   "execution_count": null,
   "metadata": {
    "collapsed": false
   },
   "outputs": [],
   "source": [
    "dispTm (Lam \"x\" (App (Var \"x\") (Var \"y\")))\n",
    "fv (Lam \"x\" (App (Var \"x\") (Var \"y\")))\n",
    "\n",
    "dispTm (App (Lam \"x\" (App (Var \"x\") (Var \"y\"))) (Var \"z\"))\n",
    "fv (App (Lam \"x\" (App (Var \"x\") (Var \"y\"))) (Var \"z\"))"
   ]
  },
  {
   "cell_type": "code",
   "execution_count": null,
   "metadata": {
    "collapsed": false
   },
   "outputs": [],
   "source": [
    "-- 단순무식한 substitition\n",
    "-- dumbSubst x t s 는 s에서 x가 보이는대로 t로 바꿔친다\n",
    "-- 이 함수의 문제점은 무엇일까?\n",
    "dumbSubst :: Nm -> Tm -> Tm -> Tm\n",
    "dumbSubst x t s@(Var y)   | x == y    = t\n",
    "                          | otherwise = s\n",
    "dumbSubst x t (Lam y s1)  = Lam y (dumbSubst x t s1)\n",
    "dumbSubst x t (App s1 s2) = App (dumbSubst x t s1) (dumbSubst x t s2)"
   ]
  },
  {
   "cell_type": "code",
   "execution_count": null,
   "metadata": {
    "collapsed": false
   },
   "outputs": [],
   "source": [
    "dispTm (Var \"x\")\n",
    "dispTm $ dumbSubst \"x\" (App (Var \"f\") (Var \"z\")) (Var \"x\")\n",
    "\n",
    "-- 자유(free)이름이 아닌 묶인(bound)이름까지 바꿔친다\n",
    "dispTm ttTm\n",
    "dispTm $ dumbSubst \"x\" (App (Var \"f\") (Var \"z\")) ttTm"
   ]
  },
  {
   "cell_type": "code",
   "execution_count": null,
   "metadata": {
    "collapsed": false
   },
   "outputs": [],
   "source": [
    "-- 자유이름만 바꿔치지만 아직은 엉성한 substitition\n",
    "-- 이 함수의 문제점은 무엇일까?\n",
    "naiveSubst :: Nm -> Tm -> Tm -> Tm\n",
    "naiveSubst x t s@(Var y)    | x == y    = t\n",
    "                            | otherwise = s\n",
    "naiveSubst x t s@(Lam y s1) | x == y    = s  -- 묶인이름은 바꿔치지마\n",
    "                            | otherwise = Lam y (naiveSubst x t s1)\n",
    "naiveSubst x t (App s1 s2)  = App (naiveSubst x t s1) (naiveSubst x t s2)"
   ]
  },
  {
   "cell_type": "code",
   "execution_count": null,
   "metadata": {
    "collapsed": false
   },
   "outputs": [],
   "source": [
    "-- 묶인이름을 안바꿔치는 건 좋은데\n",
    "dispTm ttTm\n",
    "dispTm $ naiveSubst \"x\" (App (Var \"f\") (Var \"z\")) ttTm\n",
    "\n",
    "-- 바꿔치고 보니 자유이름이 묶여서 갇힌다(capture) ㅠ.ㅠ\n",
    "dispTm (Lam \"z\" (App (Var \"x\") (Var \"z\")))\n",
    "dispTm $ naiveSubst \"x\" (App (Var \"f\") (Var \"z\")) (Lam \"z\" (App (Var \"x\") (Var \"z\")))"
   ]
  },
  {
   "cell_type": "code",
   "execution_count": null,
   "metadata": {
    "collapsed": true
   },
   "outputs": [],
   "source": [
    "-- 자유이름의 갇힘을 피하는 바꿔치기 capture avoding substutution\n",
    "-- 우리가 원하는 이 바꿔치기 함수인 subst :: Nm -> Tm -> Tm -> Tm\n",
    "-- 정의하고자 한다. 근데 이걸 정의하기 위해서는 필요한 개념이 있다."
   ]
  },
  {
   "cell_type": "code",
   "execution_count": null,
   "metadata": {
    "collapsed": false
   },
   "outputs": [],
   "source": [
    "isFresh :: Nm -> Tm -> Bool\n",
    "isFresh x = notElem x . fv"
   ]
  },
  {
   "cell_type": "code",
   "execution_count": null,
   "metadata": {
    "collapsed": false
   },
   "outputs": [],
   "source": [
    "dispTm $ Lam \"x\" (Var \"x\")\n",
    "\"x\" `isFresh` Lam \"x\" (Var \"x\")\n",
    "\n",
    "dispTm $ Lam \"y\" (Var \"x\")\n",
    "\"x\" `isFresh` Lam \"y\" (Var \"x\")"
   ]
  },
  {
   "cell_type": "code",
   "execution_count": null,
   "metadata": {
    "collapsed": true
   },
   "outputs": [],
   "source": [
    "{-\n",
    "fresh x t 는 t에 대해 새로운 이름 즉 t의 자유이름들 중\n",
    "어떤 것과도 겹치지 않으면서 앞부분이 x로 시작하는 이름을 구한다.\n",
    "예를 들면 fresh \"x\" (Var \"y\") 의 경우라면 이미 \"x\"가 새롭기 때문에\n",
    "그냥 \"x\"를 돌려줘도 무방하다. 하지만 fresh \"x\" (Var \"x\")의 경우는\n",
    "\"x\"가 (Var \"x\")에 나타나는 자유이름이므로 \"x1\"이나 \"x'\" 혹은 \"xx\",\n",
    "\"xa\", \"xabc\" 등 겹치지 않는 이름을 아무거나 하나 만들어내면 된다.\n",
    "이것이 일반적으로 동작하도록 규칙을 나름대로 정해서 만들며 된다.\n",
    "이런 fresh 함수를 작성해 보라. isFresh 함수를 활용하면 도움이 될 수 있다.\n",
    "-}\n",
    "fresh :: Nm -> Tm -> Nm\n",
    "fresh x t = x -- 이것은 당연히 잘못된 dummy 구현이므로 고쳐야 한다"
   ]
  },
  {
   "cell_type": "code",
   "execution_count": null,
   "metadata": {
    "collapsed": true
   },
   "outputs": [],
   "source": [
    "-- fresh 와 naiveSubst를 이용해 subst를 작성하라\n",
    "subst :: Nm -> Tm -> Tm -> Tm\n",
    "subst = naiveSubst -- 이것은 당연히 잘못된 dummy 구현이므로 고쳐야 한다"
   ]
  },
  {
   "cell_type": "code",
   "execution_count": null,
   "metadata": {
    "collapsed": false
   },
   "outputs": [],
   "source": [
    "-- beta t 는 t로부터 가능한 모든 beta-줄이기(reduction) 한 걸음 결과를 리스트로 계산한다.\n",
    "-- 줄일것(redex)이 없는 경우, 즉 t 가 beta-정규형(normal form)이면 빈 리스트를 돌려준다.\n",
    "-- redexes 와 subst 를 사용하여 정의하라\n",
    "beta :: Tm -> [Tm]\n",
    "beta = map (tm'2tm . fmap betaTop) . redexes\n",
    "\n",
    "betaTop (App (Lam x t) s) = subst x s t \n",
    "betaTop t = error $ \"not a top level redex: \" ++ ppTm t"
   ]
  },
  {
   "cell_type": "code",
   "execution_count": null,
   "metadata": {
    "collapsed": false
   },
   "outputs": [],
   "source": [
    "mytm = App (App (Lam \"u\" (Var \"u\")) (App (Lam \"x\" (Var \"x\")) (Lam \"y\" (Var \"y\")))) (App (Lam \"z\" (Var \"z\")) (Var \"w\"))\n",
    "\n",
    "dispTm mytm"
   ]
  },
  {
   "cell_type": "code",
   "execution_count": null,
   "metadata": {
    "collapsed": false
   },
   "outputs": [],
   "source": [
    "map dispTm' $ redexes mytm"
   ]
  },
  {
   "cell_type": "code",
   "execution_count": null,
   "metadata": {
    "collapsed": false
   },
   "outputs": [],
   "source": [
    "map dispTm $ beta mytm"
   ]
  },
  {
   "cell_type": "code",
   "execution_count": null,
   "metadata": {
    "collapsed": false
   },
   "outputs": [],
   "source": [
    "import Data.Tree\n",
    "-- http://hackage.haskell.org/package/containers/docs/Data-Tree.html\n",
    "{-\n",
    "data Tree a = Node a [Tree a]\n",
    "\n",
    "이걸 이용해서\n",
    "beta reduction tree 만들어보기\n",
    "-}\n",
    "t1 = Node (ppTm mytm) [ Node (ppTm t) [ ] | t <- beta mytm]\n",
    "putStr $ drawTree t1"
   ]
  },
  {
   "cell_type": "code",
   "execution_count": null,
   "metadata": {
    "collapsed": false
   },
   "outputs": [],
   "source": [
    "-- 트리가 아닌 일반 리스트로 출력하는 함수\n",
    "childnode :: [Tm] -> [Tm]\n",
    "childnode [] = []\n",
    "childnode (a:as) =  (beta a) ++(childnode as)\n",
    "-- 위의 함수와 동일하다\n",
    "chnode :: [Tm] -> [Tm]\n",
    "chnode = concatMap beta"
   ]
  },
  {
   "cell_type": "code",
   "execution_count": null,
   "metadata": {
    "collapsed": false
   },
   "outputs": [],
   "source": [
    "-- 두 걸음 결과 리스트\n",
    "map dispTm $ childnode (beta mytm)"
   ]
  },
  {
   "cell_type": "code",
   "execution_count": null,
   "metadata": {
    "collapsed": false
   },
   "outputs": [],
   "source": [
    "-- 역시 동일..\n",
    "map dispTm $ chnode (beta mytm)"
   ]
  },
  {
   "cell_type": "code",
   "execution_count": null,
   "metadata": {
    "collapsed": false
   },
   "outputs": [],
   "source": [
    "-- 세 걸음 결과 리스트, 다음 결과는 모두 w로 동일\n",
    "map dispTm $ childnode (childnode (beta mytm))"
   ]
  },
  {
   "cell_type": "code",
   "execution_count": null,
   "metadata": {
    "collapsed": false
   },
   "outputs": [],
   "source": [
    "--루트 노드(람다식) 에서 모든 경우의 경우를 트리로 나타내는 함수\n",
    "betatree :: Tm -> Tree Tm\n",
    "{--\n",
    "cn t = Node t (if null ts then [Node t []| t<-ts] else map cn ts) \n",
    "위와 같은 형태는 하스켈에서 잘 사용하지 않는다.\n",
    "아래와 같이 guard형태로 사용 \n",
    "--}\n",
    "\n",
    "-- 계속 진행하다 다음 걸음이 null일 경우 멈춘다\n",
    "betatree t  | null ts   = Node t [Node t' [] | t'<-ts] \n",
    "            | otherwise = Node t (map betatree ts)\n",
    "  where\n",
    "  -- 1 step beta result\n",
    "  ts :: [Tm]\n",
    "  ts = beta t\n",
    "\n"
   ]
  },
  {
   "cell_type": "code",
   "execution_count": null,
   "metadata": {
    "collapsed": false
   },
   "outputs": [],
   "source": [
    "putStr $ drawTree (fmap ppTm (betatree mytm))"
   ]
  },
  {
   "cell_type": "markdown",
   "metadata": {},
   "source": [
    "(λu.u) ((λx.x) (λy.y)) ((λz.z) w) 식에 대한 그래프\n",
    "\n",
    "\n",
    "<!--\n",
    "괄호( ( , ) ) 와 마침표 ( . ) 를 입력하면 Graphviz에서는 별개의 노드로 인식하기 때문에 유니코드의 괄호와 마침표를 사용\n",
    "\n",
    " %EF%BC%88 (\n",
    "\n",
    " %EF%BC%89 )\n",
    "\n",
    " %EF%BC%8E .\n",
    "\n",
    "digraph G {\n",
    "\n",
    "\t（λu．u）（（λx．x）（λy．y））（（λz．z）w）-> \n",
    "    （λx．x）（λy．y）（（λz．z）w）,\n",
    "    （λu．u）（λy．y）（（λz．z）w）,\n",
    "    （λu．u）（（λx．x）（λy．y））w\n",
    "    ;\n",
    "    （λx．x）（λy．y）（（λz．z）w）->\n",
    "    （λy．y）（（λz．z）w）,\n",
    "    （λx．x）（λy．y）w;\n",
    "    \n",
    "    （λu．u）（λy．y）（（λz．z）w）->\n",
    "    （λy．y）（（λz．z）w）,\n",
    "    （λu．u）（λy．y）w;\n",
    "    \n",
    "    （λu．u）（（λx．x）（λy．y））w ->\n",
    "\t（λu．u）（λy．y）w ,\n",
    "    （λx．x）（λy．y）w;\n",
    "    \n",
    "    （λy．y）（（λz．z）w）->\n",
    "    （λy．y）w ,\n",
    "    （λz．z）w ;\n",
    "    \n",
    "    （λu．u）（λy．y）w ->\n",
    "    （λy．y）w ;\n",
    "    \n",
    "    （λx．x）（λy．y）w ->\n",
    "    （λy．y）w ;\n",
    "    \n",
    "\n",
    "    （λy．y）w ,\n",
    "    （λz．z）w -> w;\n",
    "    \n",
    "\n",
    "    \n",
    "}\n",
    "-->\n",
    "![Loading Error!](https://graphviz.glitch.me/graphviz?layout=dot&format=png&mode=download&graph=digraph%20G%20%7B%0A%0A%09%EF%BC%88%CE%BBu%EF%BC%8Eu%EF%BC%89%EF%BC%88%EF%BC%88%CE%BBx%EF%BC%8Ex%EF%BC%89%EF%BC%88%CE%BBy%EF%BC%8Ey%EF%BC%89%EF%BC%89%EF%BC%88%EF%BC%88%CE%BBz%EF%BC%8Ez%EF%BC%89w%EF%BC%89-%3E%20%0A%20%20%20%20%EF%BC%88%CE%BBx%EF%BC%8Ex%EF%BC%89%EF%BC%88%CE%BBy%EF%BC%8Ey%EF%BC%89%EF%BC%88%EF%BC%88%CE%BBz%EF%BC%8Ez%EF%BC%89w%EF%BC%89%2C%0A%20%20%20%20%EF%BC%88%CE%BBu%EF%BC%8Eu%EF%BC%89%EF%BC%88%CE%BBy%EF%BC%8Ey%EF%BC%89%EF%BC%88%EF%BC%88%CE%BBz%EF%BC%8Ez%EF%BC%89w%EF%BC%89%2C%0A%20%20%20%20%EF%BC%88%CE%BBu%EF%BC%8Eu%EF%BC%89%EF%BC%88%EF%BC%88%CE%BBx%EF%BC%8Ex%EF%BC%89%EF%BC%88%CE%BBy%EF%BC%8Ey%EF%BC%89%EF%BC%89w%0A%20%20%20%20%3B%0A%20%20%20%20%EF%BC%88%CE%BBx%EF%BC%8Ex%EF%BC%89%EF%BC%88%CE%BBy%EF%BC%8Ey%EF%BC%89%EF%BC%88%EF%BC%88%CE%BBz%EF%BC%8Ez%EF%BC%89w%EF%BC%89-%3E%0A%20%20%20%20%EF%BC%88%CE%BBy%EF%BC%8Ey%EF%BC%89%EF%BC%88%EF%BC%88%CE%BBz%EF%BC%8Ez%EF%BC%89w%EF%BC%89%2C%0A%20%20%20%20%EF%BC%88%CE%BBx%EF%BC%8Ex%EF%BC%89%EF%BC%88%CE%BBy%EF%BC%8Ey%EF%BC%89w%3B%0A%20%20%20%20%0A%20%20%20%20%EF%BC%88%CE%BBu%EF%BC%8Eu%EF%BC%89%EF%BC%88%CE%BBy%EF%BC%8Ey%EF%BC%89%EF%BC%88%EF%BC%88%CE%BBz%EF%BC%8Ez%EF%BC%89w%EF%BC%89-%3E%0A%20%20%20%20%EF%BC%88%CE%BBy%EF%BC%8Ey%EF%BC%89%EF%BC%88%EF%BC%88%CE%BBz%EF%BC%8Ez%EF%BC%89w%EF%BC%89%2C%0A%20%20%20%20%EF%BC%88%CE%BBu%EF%BC%8Eu%EF%BC%89%EF%BC%88%CE%BBy%EF%BC%8Ey%EF%BC%89w%3B%0A%20%20%20%20%0A%20%20%20%20%EF%BC%88%CE%BBu%EF%BC%8Eu%EF%BC%89%EF%BC%88%EF%BC%88%CE%BBx%EF%BC%8Ex%EF%BC%89%EF%BC%88%CE%BBy%EF%BC%8Ey%EF%BC%89%EF%BC%89w%20-%3E%0A%09%EF%BC%88%CE%BBu%EF%BC%8Eu%EF%BC%89%EF%BC%88%CE%BBy%EF%BC%8Ey%EF%BC%89w%20%2C%0A%20%20%20%20%EF%BC%88%CE%BBx%EF%BC%8Ex%EF%BC%89%EF%BC%88%CE%BBy%EF%BC%8Ey%EF%BC%89w%3B%0A%20%20%20%20%0A%20%20%20%20%EF%BC%88%CE%BBy%EF%BC%8Ey%EF%BC%89%EF%BC%88%EF%BC%88%CE%BBz%EF%BC%8Ez%EF%BC%89w%EF%BC%89-%3E%0A%20%20%20%20%EF%BC%88%CE%BBy%EF%BC%8Ey%EF%BC%89w%20%2C%0A%20%20%20%20%EF%BC%88%CE%BBz%EF%BC%8Ez%EF%BC%89w%20%3B%0A%20%20%20%20%0A%20%20%20%20%EF%BC%88%CE%BBu%EF%BC%8Eu%EF%BC%89%EF%BC%88%CE%BBy%EF%BC%8Ey%EF%BC%89w%20-%3E%0A%20%20%20%20%EF%BC%88%CE%BBy%EF%BC%8Ey%EF%BC%89w%20%3B%0A%20%20%20%20%0A%20%20%20%20%EF%BC%88%CE%BBx%EF%BC%8Ex%EF%BC%89%EF%BC%88%CE%BBy%EF%BC%8Ey%EF%BC%89w%20-%3E%0A%20%20%20%20%EF%BC%88%CE%BBy%EF%BC%8Ey%EF%BC%89w%20%3B%0A%20%20%20%20%0A%0A%20%20%20%20%EF%BC%88%CE%BBy%EF%BC%8Ey%EF%BC%89w%20%2C%0A%20%20%20%20%EF%BC%88%CE%BBz%EF%BC%8Ez%EF%BC%89w%20-%3E%20w%3B%0A%20%20%20%20%0A%0A%20%20%20%20%0A%7D)"
   ]
  }
 ],
 "metadata": {
  "kernelspec": {
   "display_name": "Haskell",
   "language": "haskell",
   "name": "haskell"
  },
  "language_info": {
   "codemirror_mode": "ihaskell",
   "file_extension": ".hs",
   "name": "haskell",
   "version": "7.10.2"
  }
 },
 "nbformat": 4,
 "nbformat_minor": 0
}
