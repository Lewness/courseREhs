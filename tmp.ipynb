{
 "cells": [
  {
   "cell_type": "markdown",
   "metadata": {},
   "source": [
    "메모"
   ]
  },
  {
   "cell_type": "markdown",
   "metadata": {},
   "source": [
    "<span class='hoogle-name'><a target='_blank' href='http://hackage.haskell.org/packages/archive/base/latest/doc/html/Prelude.html#v:map'>map</a> &#x2237; (a &#x2192; b) &#x2192; [a] &#x2192; [b]</span>\n",
    "<span class='hoogle-sub'>(<span class='hoogle-head'>package</span> <span class='hoogle-package'>base</span>, <span class='hoogle-head'>module</span> <span class='hoogle-module'>Prelude</span>)</span>\n",
    "<div class='hoogle-doc'>\n",
    "<div class='hoogle-text'>map f xs is the list obtained by applying f to each element of xs, i.e.,</div>\n",
    "\n",
    "```haskell\n",
    "map f [x1, x2, ..., xn] == [f x1, f x2, ..., f xn]\n",
    "map f [x1, x2, ...] == [f x1, f x2, ...]\n",
    "```\n",
    "\n",
    "</div>"
   ]
  },
  {
   "cell_type": "code",
   "execution_count": 22,
   "metadata": {
    "collapsed": false
   },
   "outputs": [
    {
     "data": {
      "text/plain": [
       "[2,4,6,8,10]"
      ]
     },
     "metadata": {},
     "output_type": "display_data"
    },
    {
     "data": {
      "text/plain": []
     },
     "metadata": {},
     "output_type": "display_data"
    }
   ],
   "source": [
    "map (*2) [1,2,3,4,5]"
   ]
  },
  {
   "cell_type": "code",
   "execution_count": 1,
   "metadata": {
    "collapsed": false
   },
   "outputs": [],
   "source": [
    "map :: (a -> b) -> [a] -> [b]\n",
    "map f []     = []\n",
    "map f (x:xs) = f x : map f xs"
   ]
  },
  {
   "cell_type": "markdown",
   "metadata": {},
   "source": [
    "<span class='hoogle-name'><a target='_blank' href='http://hackage.haskell.org/packages/archive/base/latest/doc/html/Prelude.html#v:concat'>concat</a> &#x2237; [[a]] &#x2192; [a]</span>\n",
    "<span class='hoogle-sub'>(<span class='hoogle-head'>package</span>\n",
    "<span class='hoogle-package'>base</span>, <span class='hoogle-head'>module</span> <span class='hoogle-module'>Prelude</span>)</span>\n",
    "<div class='hoogle-doc'>\n",
    "<div class='hoogle-text'>Concatenate a list of lists. e.g.,</div>\n",
    "\n",
    "```haskell\n",
    "concat [xs1, xs2, xs3] == xs1 ++ xs2 ++ xs3\n",
    "concat xss == foldr (++) [] xss\n",
    "```\n",
    "\n",
    "</div>"
   ]
  },
  {
   "cell_type": "code",
   "execution_count": 18,
   "metadata": {
    "collapsed": false
   },
   "outputs": [
    {
     "data": {
      "text/plain": [
       "[1,2,3,4,5,6,7,8,9]"
      ]
     },
     "metadata": {},
     "output_type": "display_data"
    },
    {
     "data": {
      "text/plain": []
     },
     "metadata": {},
     "output_type": "display_data"
    }
   ],
   "source": [
    "concat [[1,2], [3,4,5], [6,7,8,9]]"
   ]
  },
  {
   "cell_type": "code",
   "execution_count": 19,
   "metadata": {
    "collapsed": false
   },
   "outputs": [
    {
     "data": {
      "text/html": [
       "<style>/* Styles used for the Hoogle display in the pager */\n",
       ".hoogle-doc {\n",
       "display: block;\n",
       "padding-bottom: 1.3em;\n",
       "padding-left: 0.4em;\n",
       "}\n",
       ".hoogle-code {\n",
       "display: block;\n",
       "font-family: monospace;\n",
       "white-space: pre;\n",
       "}\n",
       ".hoogle-text {\n",
       "display: block;\n",
       "}\n",
       ".hoogle-name {\n",
       "color: green;\n",
       "font-weight: bold;\n",
       "}\n",
       ".hoogle-head {\n",
       "font-weight: bold;\n",
       "}\n",
       ".hoogle-sub {\n",
       "display: block;\n",
       "margin-left: 0.4em;\n",
       "}\n",
       ".hoogle-package {\n",
       "font-weight: bold;\n",
       "font-style: italic;\n",
       "}\n",
       ".hoogle-module {\n",
       "font-weight: bold;\n",
       "}\n",
       ".hoogle-class {\n",
       "font-weight: bold;\n",
       "}\n",
       ".get-type {\n",
       "color: green;\n",
       "font-weight: bold;\n",
       "font-family: monospace;\n",
       "display: block;\n",
       "white-space: pre-wrap;\n",
       "}\n",
       ".show-type {\n",
       "color: green;\n",
       "font-weight: bold;\n",
       "font-family: monospace;\n",
       "margin-left: 1em;\n",
       "}\n",
       ".mono {\n",
       "font-family: monospace;\n",
       "display: block;\n",
       "}\n",
       ".err-msg {\n",
       "color: red;\n",
       "font-style: italic;\n",
       "font-family: monospace;\n",
       "white-space: pre;\n",
       "display: block;\n",
       "}\n",
       "#unshowable {\n",
       "color: red;\n",
       "font-weight: bold;\n",
       "}\n",
       ".err-msg.in.collapse {\n",
       "padding-top: 0.7em;\n",
       "}\n",
       ".highlight-code {\n",
       "white-space: pre;\n",
       "font-family: monospace;\n",
       "}\n",
       ".suggestion-warning { \n",
       "font-weight: bold;\n",
       "color: rgb(200, 130, 0);\n",
       "}\n",
       ".suggestion-error { \n",
       "font-weight: bold;\n",
       "color: red;\n",
       "}\n",
       ".suggestion-name {\n",
       "font-weight: bold;\n",
       "}\n",
       "</style><div class=\"suggestion-name\" style=\"clear:both;\">Use concat</div><div class=\"suggestion-row\" style=\"float: left;\"><div class=\"suggestion-error\">Found:</div><div class=\"highlight-code\" id=\"haskell\">foldr (++) []</div></div><div class=\"suggestion-row\" style=\"float: left;\"><div class=\"suggestion-error\">Why Not:</div><div class=\"highlight-code\" id=\"haskell\">concat</div></div>"
      ],
      "text/plain": [
       "Line 1: Use concat\n",
       "Found:\n",
       "foldr (++) []\n",
       "Why not:\n",
       "concat"
      ]
     },
     "metadata": {},
     "output_type": "display_data"
    },
    {
     "data": {
      "text/plain": [
       "[1,2,3,4,5,6,7,8,9]"
      ]
     },
     "metadata": {},
     "output_type": "display_data"
    },
    {
     "data": {
      "text/plain": []
     },
     "metadata": {},
     "output_type": "display_data"
    }
   ],
   "source": [
    "foldr (++) [] [[1,2], [3,4,5], [6,7,8,9]]"
   ]
  },
  {
   "cell_type": "code",
   "execution_count": 23,
   "metadata": {
    "collapsed": false
   },
   "outputs": [
    {
     "data": {},
     "metadata": {},
     "output_type": "display_data"
    },
    {
     "data": {
      "text/plain": [
       "<span class='hoogle-name'><a target='_blank' href='http://hackage.haskell.org/packages/archive/base/latest/doc/html/Prelude.html#v:foldr'>foldr</a> &#x2237; (a &#x2192; b &#x2192; b) &#x2192; b &#x2192; [a] &#x2192; b</span><span class='hoogle-sub'>(<span class='hoogle-head'>package</span> <span class='hoogle-package'>base</span>, <span class='hoogle-head'>module</span> <span class='hoogle-module'>Prelude</span>)</span><div class='hoogle-doc'><div class='hoogle-text'>foldr, applied to a binary operator, a starting value (typically the right-identity of the operator), and a list, reduces the list using the binary operator, from right to left:\n",
       "</div>\n",
       "<div class='hoogle-text'></div>\n",
       "<div class='hoogle-code'>> foldr f z [x1, x2, ..., xn] == x1 `f` (x2 `f` ... (xn `f` z)...) \n",
       "</div>\n",
       "</div>\n",
       "<span class='hoogle-name'><a target='_blank' href='http://hackage.haskell.org/packages/archive/base/latest/doc/html/Data-Foldable.html#v:foldr'>foldr</a> &#x2237; Foldable t &#x21D2; (a &#x2192; b &#x2192; b) &#x2192; b &#x2192; t a &#x2192; b</span><span class='hoogle-sub'>(<span class='hoogle-head'>package</span> <span class='hoogle-package'>base</span>, <span class='hoogle-head'>module</span> <span class='hoogle-module'>Data.Foldable</span>)</span><div class='hoogle-doc'></div>\n",
       "<span class='hoogle-name'><a target='_blank' href='http://hackage.haskell.org/packages/archive/bytestring/latest/doc/html/Data-ByteString-Char8.html#v:foldr'>foldr</a> &#x2237; (Char &#x2192; a &#x2192; a) &#x2192; a &#x2192; ByteString &#x2192; a</span><span class='hoogle-sub'>(<span class='hoogle-head'>package</span> <span class='hoogle-package'>bytestring</span>, <span class='hoogle-head'>module</span> <span class='hoogle-module'>Data.ByteString.Char8</span>)</span><div class='hoogle-doc'><div class='hoogle-text'>foldr, applied to a binary operator, a starting value (typically the right-identity of the operator), and a packed string, reduces the packed string using the binary operator, from right to left. \n",
       "</div>\n",
       "</div>\n",
       "<span class='hoogle-name'><a target='_blank' href='http://hackage.haskell.org/packages/archive/text/latest/doc/html/Data-Text.html#v:foldr'>foldr</a> &#x2237; (Char &#x2192; a &#x2192; a) &#x2192; a &#x2192; Text &#x2192; a</span><span class='hoogle-sub'>(<span class='hoogle-head'>package</span> <span class='hoogle-package'>text</span>, <span class='hoogle-head'>module</span> <span class='hoogle-module'>Data.Text</span>)</span><div class='hoogle-doc'><div class='hoogle-text'>O(n) foldr, applied to a binary operator, a starting value (typically the right-identity of the operator), and a Text, reduces the Text using the binary operator, from right to left. Subject to fusion. \n",
       "</div>\n",
       "</div>\n",
       "<span class='hoogle-name'><a target='_blank' href='http://hackage.haskell.org/packages/archive/containers/latest/doc/html/Data-IntSet.html#v:foldr'>foldr</a> &#x2237; (Key &#x2192; b &#x2192; b) &#x2192; b &#x2192; IntSet &#x2192; b</span><span class='hoogle-sub'>(<span class='hoogle-head'>package</span> <span class='hoogle-package'>containers</span>, <span class='hoogle-head'>module</span> <span class='hoogle-module'>Data.IntSet</span>)</span><div class='hoogle-doc'><div class='hoogle-text'>O(n). Fold the elements in the set using the given right-associative binary operator, such that foldr f z == foldr f z . toAscList.\n",
       "</div>\n",
       "<div class='hoogle-text'></div>\n",
       "<div class='hoogle-text'>For example,\n",
       "</div>\n",
       "<div class='hoogle-text'></div>\n",
       "<div class='hoogle-code'>> toAscList set = foldr (:) [] set \n",
       "</div>\n",
       "</div>\n",
       "<span class='hoogle-name'><a target='_blank' href='http://hackage.haskell.org/packages/archive/bytestring/latest/doc/html/Data-ByteString.html#v:foldr'>foldr</a> &#x2237; (Word8 &#x2192; a &#x2192; a) &#x2192; a &#x2192; ByteString &#x2192; a</span><span class='hoogle-sub'>(<span class='hoogle-head'>package</span> <span class='hoogle-package'>bytestring</span>, <span class='hoogle-head'>module</span> <span class='hoogle-module'>Data.ByteString</span>)</span><div class='hoogle-doc'><div class='hoogle-text'>foldr, applied to a binary operator, a starting value (typically the right-identity of the operator), and a ByteString, reduces the ByteString using the binary operator, from right to left. \n",
       "</div>\n",
       "</div>\n",
       "<span class='hoogle-name'><a target='_blank' href='http://hackage.haskell.org/packages/archive/containers/latest/doc/html/Data-IntMap-Strict.html#v:foldr'>foldr</a> &#x2237; (a &#x2192; b &#x2192; b) &#x2192; b &#x2192; IntMap a &#x2192; b</span><span class='hoogle-sub'>(<span class='hoogle-head'>package</span> <span class='hoogle-package'>containers</span>, <span class='hoogle-head'>module</span> <span class='hoogle-module'>Data.IntMap.Strict</span>)</span><div class='hoogle-doc'><div class='hoogle-text'>O(n). Fold the values in the map using the given right-associative binary operator, such that foldr f z == foldr f z . elems.\n",
       "</div>\n",
       "<div class='hoogle-text'></div>\n",
       "<div class='hoogle-text'>For example,\n",
       "</div>\n",
       "<div class='hoogle-text'></div>\n",
       "<div class='hoogle-code'>> elems map = foldr (:) [] map\n",
       "</div>\n",
       "<div class='hoogle-text'></div>\n",
       "<div class='hoogle-code'>> let f a len = len + (length a)\n",
       "> foldr f 0 (fromList [(5,\"a\"), (3,\"bbb\")]) == 4 \n",
       "</div>\n",
       "</div>\n",
       "<span class='hoogle-name'><a target='_blank' href='http://hackage.haskell.org/packages/archive/containers/latest/doc/html/Data-Map-Lazy.html#v:foldr'>foldr</a> &#x2237; (a &#x2192; b &#x2192; b) &#x2192; b &#x2192; Map k a &#x2192; b</span><span class='hoogle-sub'>(<span class='hoogle-head'>package</span> <span class='hoogle-package'>containers</span>, <span class='hoogle-head'>module</span> <span class='hoogle-module'>Data.Map.Lazy</span>)</span><div class='hoogle-doc'><div class='hoogle-text'>O(n). Fold the values in the map using the given right-associative binary operator, such that foldr f z == foldr f z . elems.\n",
       "</div>\n",
       "<div class='hoogle-text'></div>\n",
       "<div class='hoogle-text'>For example,\n",
       "</div>\n",
       "<div class='hoogle-text'></div>\n",
       "<div class='hoogle-code'>> elems map = foldr (:) [] map\n",
       "</div>\n",
       "<div class='hoogle-text'></div>\n",
       "<div class='hoogle-code'>> let f a len = len + (length a)\n",
       "> foldr f 0 (fromList [(5,\"a\"), (3,\"bbb\")]) == 4 \n",
       "</div>\n",
       "</div>\n",
       "<span class='hoogle-name'><a target='_blank' href='http://hackage.haskell.org/packages/archive/containers/latest/doc/html/Data-Set.html#v:foldr'>foldr</a> &#x2237; (a &#x2192; b &#x2192; b) &#x2192; b &#x2192; Set a &#x2192; b</span><span class='hoogle-sub'>(<span class='hoogle-head'>package</span> <span class='hoogle-package'>containers</span>, <span class='hoogle-head'>module</span> <span class='hoogle-module'>Data.Set</span>)</span><div class='hoogle-doc'><div class='hoogle-text'>O(n). Fold the elements in the set using the given right-associative binary operator, such that foldr f z == foldr f z . toAscList.\n",
       "</div>\n",
       "<div class='hoogle-text'></div>\n",
       "<div class='hoogle-text'>For example,\n",
       "</div>\n",
       "<div class='hoogle-text'></div>\n",
       "<div class='hoogle-code'>> toAscList set = foldr (:) [] set \n",
       "</div>\n",
       "</div>"
      ]
     },
     "metadata": {},
     "output_type": "display_data"
    }
   ],
   "source": [
    ":doc foldr"
   ]
  },
  {
   "cell_type": "code",
   "execution_count": 14,
   "metadata": {
    "collapsed": true
   },
   "outputs": [],
   "source": [
    ":opt no-pager"
   ]
  }
 ],
 "metadata": {
  "kernelspec": {
   "display_name": "Haskell",
   "language": "haskell",
   "name": "haskell"
  },
  "language_info": {
   "codemirror_mode": "ihaskell",
   "file_extension": ".hs",
   "name": "haskell",
   "version": "7.10.2"
  }
 },
 "nbformat": 4,
 "nbformat_minor": 0
}
